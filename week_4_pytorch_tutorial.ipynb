{
 "cells": [
  {
   "cell_type": "markdown",
   "source": [
    "# Week 4: Introduction to PyTorch"
   ],
   "metadata": {
    "collapsed": false
   },
   "id": "9f497a46de4a2e5c"
  },
  {
   "cell_type": "code",
   "execution_count": 8,
   "id": "initial_id",
   "metadata": {
    "collapsed": true,
    "ExecuteTime": {
     "end_time": "2023-08-21T01:24:01.070350400Z",
     "start_time": "2023-08-21T01:24:00.925382100Z"
    }
   },
   "outputs": [],
   "source": [
    "import numpy as np\n",
    "import torch\n",
    "import torch.nn as nn\n",
    "import torch.optim as optim"
   ]
  },
  {
   "cell_type": "markdown",
   "source": [
    "#### Load the dataset, split into input (X) and output (y) variables"
   ],
   "metadata": {
    "collapsed": false
   },
   "id": "8e390cfed2c55e7c"
  },
  {
   "cell_type": "code",
   "execution_count": 9,
   "outputs": [],
   "source": [
    "dataset = np.loadtxt('pima-indians-diabetes.csv', delimiter=',')\n",
    "X = dataset[:,0:8]\n",
    "y = dataset[:,8]"
   ],
   "metadata": {
    "collapsed": false,
    "ExecuteTime": {
     "end_time": "2023-08-21T01:24:01.070350400Z",
     "start_time": "2023-08-21T01:24:00.945347900Z"
    }
   },
   "id": "6717ade40a01c2a5"
  },
  {
   "cell_type": "markdown",
   "source": [
    "But these data should be converted to PyTorch tensors first. One reason is that PyTorch\n",
    "usually operates in a 32-bit floating point while NumPy, by default, uses a 64-bit floating point. Mix-and-match is not allowed in most operations. Converting to PyTorch tensors can avoid the implicit conversion that may cause problems. You can also take this chance to correct the shape to fit what PyTorch would expect, e.g., prefer n×1 matrix over n-vectors.\n",
    "\n",
    "**To convert, create a tensor out of NumPy arrays:**"
   ],
   "metadata": {
    "collapsed": false
   },
   "id": "3070d4d699565ff3"
  },
  {
   "cell_type": "code",
   "execution_count": 10,
   "outputs": [],
   "source": [
    "X = torch.tensor(X, dtype=torch.float32)\n",
    "y = torch.tensor(y, dtype=torch.float32).reshape(-1, 1)"
   ],
   "metadata": {
    "collapsed": false,
    "ExecuteTime": {
     "end_time": "2023-08-21T01:24:01.070350400Z",
     "start_time": "2023-08-21T01:24:00.960988600Z"
    }
   },
   "id": "69b32a33a54b1c"
  },
  {
   "cell_type": "markdown",
   "source": [
    "You are now ready to define your neural network model.\n",
    "A model can be defined as a sequence of layers. You create a Sequential model with the\n",
    "layers listed out. The first thing you need to do to get this right is to ensure the first layer has the correct number of input features. In this example, you can specify the input dimension 8 for the eight input variables as one vector.\n",
    "\n",
    "The other parameters for a layer or how many layers you need for a model is not an easy\n",
    "question. You may use heuristics to help you design the model, or you can refer to other people’s designs in dealing with a similar problem. Often, the best neural network structure is found through a process of trial-and-error experimentation. Generally, you need a network large enough to capture the structure of the problem but small enough to make it fast. In this example, let’s use a fully-connected network structure with three layers. Fully connected layers or dense layers are defined using the Linear class in PyTorch. It simply means an operation similar to matrix multiplication. You can specify the number of inputs as the first argument and the number of outputs as the second argument. The number of outputs is sometimes called the number of neurons or number of nodes in the layer. You also need an activation function after the layer. If not provided, you just take the output\n",
    "of the matrix multiplication to the next step, or sometimes you call it using linear activation, hence the name of the layer.\n",
    "\n",
    "In this example, you will use the rectified linear unit activation function, referred to as ReLU, on the first two layers and the sigmoid function in the output layer.\n",
    "A sigmoid on the output layer ensures the output is between 0 and 1, which is easy to map to either a probability of class 1 or snap to a hard classification of either class by a cut-off threshold of 0.5. In the past, you might have used sigmoid and tanh activation functions for all layers, but it turns out that sigmoid activation can lead to the problem of vanishing gradient in deep neural networks, and ReLU activation is found to provide better performance in terms of both speed and accuracy.\n",
    "\n",
    "You can piece it all together by adding each layer such that:\n",
    "\n",
    "- The model expects rows of data with 8 variables (the first argument at the first layer set to 8)\n",
    "- The first hidden layer has 12 neurons, followed by a ReLU activation function\n",
    "- The second hidden layer has 8 neurons, followed by another ReLU activation function\n",
    "- The output layer has one neuron, followed by a sigmoid activation function."
   ],
   "metadata": {
    "collapsed": false
   },
   "id": "2f203073c8b45285"
  },
  {
   "cell_type": "markdown",
   "source": [],
   "metadata": {
    "collapsed": false
   },
   "id": "9d499572826e0e92"
  },
  {
   "cell_type": "code",
   "execution_count": 11,
   "outputs": [
    {
     "name": "stdout",
     "output_type": "stream",
     "text": [
      "PimaClassifier(\n",
      "  (hidden1): Linear(in_features=8, out_features=12, bias=True)\n",
      "  (act1): ReLU()\n",
      "  (hidden2): Linear(in_features=12, out_features=8, bias=True)\n",
      "  (act2): ReLU()\n",
      "  (output): Linear(in_features=8, out_features=1, bias=True)\n",
      "  (act_output): Sigmoid()\n",
      ")\n"
     ]
    }
   ],
   "source": [
    "class PimaClassifier(nn.Module):\n",
    "    def __init__(self):\n",
    "        super().__init__()\n",
    "        self.hidden1 = nn.Linear(8, 12)\n",
    "        self.act1 = nn.ReLU()\n",
    "        self.hidden2 = nn.Linear(12, 8)\n",
    "        self.act2 = nn.ReLU()\n",
    "        self.output = nn.Linear(8, 1)\n",
    "        self.act_output = nn.Sigmoid()\n",
    "\n",
    "    def forward(self, x):\n",
    "        x = self.act1(self.hidden1(x))\n",
    "        x = self.act2(self.hidden2(x))\n",
    "        x = self.act_output(self.output(x))\n",
    "        return x\n",
    "\n",
    "model = PimaClassifier()\n",
    "print(model)\n",
    "        "
   ],
   "metadata": {
    "collapsed": false,
    "ExecuteTime": {
     "end_time": "2023-08-21T01:24:01.070350400Z",
     "start_time": "2023-08-21T01:24:00.976615400Z"
    }
   },
   "id": "4f389ced71064fba"
  },
  {
   "cell_type": "markdown",
   "source": [
    "In this approach, a class needs to have all the layers defined in the constructor because you need to prepare all its components when it is created, but the input is not yet provided. Note that you also need to call the parent class’s constructor (the line `super().__init__()`) to bootstrap your model. You also need to define a `forward()` function in the class to tell, if an input tensor x is provided, how you produce the output tensor in return.\n",
    "\n",
    "Once you decide on the loss function, you also need an optimizer. The optimizer is the\n",
    "algorithm you use to adjust the model weights progressively to produce a better output.\n",
    "There are many optimizers to choose from, and in this example, Adam is used. This popular\n",
    "version of gr adient descent can automatically tune itself and gives good results in a wide range of problems.\n",
    "\n",
    "The optimizer usually has some configuration parameters. Most notably, the learning rate\n",
    "lr. But all optimizers need to know what to optimize. Therefore. you pass on model.parameters(), which is a generator of all parameters from the model you created."
   ],
   "metadata": {
    "collapsed": false
   },
   "id": "767ad0a8773c61cc"
  },
  {
   "cell_type": "code",
   "execution_count": 12,
   "outputs": [],
   "source": [
    "loss_fn = nn.BCELoss() # Binary cross entropy loss\n",
    "optimizer = optim.Adam(model.parameters(), lr=0.001)"
   ],
   "metadata": {
    "collapsed": false,
    "ExecuteTime": {
     "end_time": "2023-08-21T01:24:01.070350400Z",
     "start_time": "2023-08-21T01:24:00.992236Z"
    }
   },
   "id": "230b24185c49836d"
  },
  {
   "cell_type": "markdown",
   "source": [
    "You have defined your model, the loss metric, and the optimizer. It is ready for training by executing the model on some data.\n",
    "\n",
    "Training a neural network model usually takes in epochs and batches. They are idioms for\n",
    "how data is passed to a model:\n",
    "\n",
    "- Epoch: Passes the entire training dataset to the model once\n",
    "- Batch: One or more samples passed to the model, from which the gradient descent\n",
    "algorithm will be executed for one iteration.\n",
    "\n",
    "The size of a batch is limited by the system’s memory. Also, the number of computations\n",
    "required is linearly proportional to the size of a batch. The total number of batches over\n",
    "many epochs is how many times you run the gradient descent to refine the model. It is a\n",
    "trade off that you want more iterations for the gradient descent so you can produce a better model, but at the same time, you do not want the training to take too long to complete. The number of epochs and the size of a batch can be chosen experimentally by trial and error.\n",
    "\n",
    "The goal of training a model is to ensure it learns a good enough mapping of input data to\n",
    "output classification. It will not be perfect, and errors are inevitable. Usually, you will see the amount o f error reducing when in the later epochs, but it will eventually level out. This is called model convergence."
   ],
   "metadata": {
    "collapsed": false
   },
   "id": "bb8b70c12b7bbd1c"
  },
  {
   "cell_type": "code",
   "execution_count": 13,
   "outputs": [
    {
     "name": "stdout",
     "output_type": "stream",
     "text": [
      "Finished epoch 0, latest loss 0.720002293586731\n",
      "Finished epoch 1, latest loss 0.6318121552467346\n",
      "Finished epoch 2, latest loss 0.5860861539840698\n",
      "Finished epoch 3, latest loss 0.5649712085723877\n",
      "Finished epoch 4, latest loss 0.5422816276550293\n",
      "Finished epoch 5, latest loss 0.5299890637397766\n",
      "Finished epoch 6, latest loss 0.5078116059303284\n",
      "Finished epoch 7, latest loss 0.49606218934059143\n",
      "Finished epoch 8, latest loss 0.491299033164978\n",
      "Finished epoch 9, latest loss 0.48608070611953735\n",
      "Finished epoch 10, latest loss 0.4817586839199066\n",
      "Finished epoch 11, latest loss 0.46700331568717957\n",
      "Finished epoch 12, latest loss 0.46342021226882935\n",
      "Finished epoch 13, latest loss 0.46239715814590454\n",
      "Finished epoch 14, latest loss 0.4537091553211212\n",
      "Finished epoch 15, latest loss 0.44400814175605774\n",
      "Finished epoch 16, latest loss 0.44801321625709534\n",
      "Finished epoch 17, latest loss 0.4469354748725891\n",
      "Finished epoch 18, latest loss 0.4423390030860901\n",
      "Finished epoch 19, latest loss 0.4378354251384735\n",
      "Finished epoch 20, latest loss 0.43231141567230225\n",
      "Finished epoch 21, latest loss 0.42896512150764465\n",
      "Finished epoch 22, latest loss 0.42966175079345703\n",
      "Finished epoch 23, latest loss 0.4312620460987091\n",
      "Finished epoch 24, latest loss 0.4227351248264313\n",
      "Finished epoch 25, latest loss 0.42386123538017273\n",
      "Finished epoch 26, latest loss 0.4216931462287903\n",
      "Finished epoch 27, latest loss 0.41449427604675293\n",
      "Finished epoch 28, latest loss 0.413856565952301\n",
      "Finished epoch 29, latest loss 0.416305273771286\n",
      "Finished epoch 30, latest loss 0.4131644368171692\n",
      "Finished epoch 31, latest loss 0.41368740797042847\n",
      "Finished epoch 32, latest loss 0.41548821330070496\n",
      "Finished epoch 33, latest loss 0.4138196110725403\n",
      "Finished epoch 34, latest loss 0.4124675393104553\n",
      "Finished epoch 35, latest loss 0.411369651556015\n",
      "Finished epoch 36, latest loss 0.4123968183994293\n",
      "Finished epoch 37, latest loss 0.40850114822387695\n",
      "Finished epoch 38, latest loss 0.41243985295295715\n",
      "Finished epoch 39, latest loss 0.41003987193107605\n",
      "Finished epoch 40, latest loss 0.40902912616729736\n",
      "Finished epoch 41, latest loss 0.4102267920970917\n",
      "Finished epoch 42, latest loss 0.4073637127876282\n",
      "Finished epoch 43, latest loss 0.4060705602169037\n",
      "Finished epoch 44, latest loss 0.4078921675682068\n",
      "Finished epoch 45, latest loss 0.4058432877063751\n",
      "Finished epoch 46, latest loss 0.40852341055870056\n",
      "Finished epoch 47, latest loss 0.40577220916748047\n",
      "Finished epoch 48, latest loss 0.40482667088508606\n",
      "Finished epoch 49, latest loss 0.40438345074653625\n",
      "Finished epoch 50, latest loss 0.4049835205078125\n",
      "Finished epoch 51, latest loss 0.4055997133255005\n",
      "Finished epoch 52, latest loss 0.40572383999824524\n",
      "Finished epoch 53, latest loss 0.40273943543434143\n",
      "Finished epoch 54, latest loss 0.4037661850452423\n",
      "Finished epoch 55, latest loss 0.403629332780838\n",
      "Finished epoch 56, latest loss 0.4034527540206909\n",
      "Finished epoch 57, latest loss 0.4015013873577118\n",
      "Finished epoch 58, latest loss 0.4036732017993927\n",
      "Finished epoch 59, latest loss 0.40026336908340454\n",
      "Finished epoch 60, latest loss 0.39844948053359985\n",
      "Finished epoch 61, latest loss 0.4009857773780823\n",
      "Finished epoch 62, latest loss 0.39527028799057007\n",
      "Finished epoch 63, latest loss 0.39997971057891846\n",
      "Finished epoch 64, latest loss 0.4007056653499603\n",
      "Finished epoch 65, latest loss 0.39643019437789917\n",
      "Finished epoch 66, latest loss 0.3973892629146576\n",
      "Finished epoch 67, latest loss 0.3945621848106384\n",
      "Finished epoch 68, latest loss 0.3938758671283722\n",
      "Finished epoch 69, latest loss 0.3967176079750061\n",
      "Finished epoch 70, latest loss 0.39392954111099243\n",
      "Finished epoch 71, latest loss 0.3966119587421417\n",
      "Finished epoch 72, latest loss 0.39530396461486816\n",
      "Finished epoch 73, latest loss 0.3990713059902191\n",
      "Finished epoch 74, latest loss 0.3974071741104126\n",
      "Finished epoch 75, latest loss 0.39727625250816345\n",
      "Finished epoch 76, latest loss 0.3967018723487854\n",
      "Finished epoch 77, latest loss 0.3934769034385681\n",
      "Finished epoch 78, latest loss 0.3961690068244934\n",
      "Finished epoch 79, latest loss 0.3901293873786926\n",
      "Finished epoch 80, latest loss 0.39286503195762634\n",
      "Finished epoch 81, latest loss 0.39272117614746094\n",
      "Finished epoch 82, latest loss 0.38477402925491333\n",
      "Finished epoch 83, latest loss 0.39183562994003296\n",
      "Finished epoch 84, latest loss 0.3857418894767761\n",
      "Finished epoch 85, latest loss 0.3914504051208496\n",
      "Finished epoch 86, latest loss 0.3850080370903015\n",
      "Finished epoch 87, latest loss 0.3908264935016632\n",
      "Finished epoch 88, latest loss 0.3818730115890503\n",
      "Finished epoch 89, latest loss 0.3900781273841858\n",
      "Finished epoch 90, latest loss 0.38455209136009216\n",
      "Finished epoch 91, latest loss 0.387396901845932\n",
      "Finished epoch 92, latest loss 0.3834612965583801\n",
      "Finished epoch 93, latest loss 0.3860328793525696\n",
      "Finished epoch 94, latest loss 0.3747316598892212\n",
      "Finished epoch 95, latest loss 0.38536959886550903\n",
      "Finished epoch 96, latest loss 0.3767986297607422\n",
      "Finished epoch 97, latest loss 0.38652485609054565\n",
      "Finished epoch 98, latest loss 0.374725341796875\n",
      "Finished epoch 99, latest loss 0.3824104964733124\n"
     ]
    }
   ],
   "source": [
    "n_epochs = 100\n",
    "batch_size = 10\n",
    "\n",
    "for epoch in range(n_epochs):\n",
    "    for i in range(0, len(X), batch_size):\n",
    "        Xbatch = X[i:i+batch_size]\n",
    "        y_pred = model(Xbatch)\n",
    "        ybatch = y[i:i+batch_size]\n",
    "        loss = loss_fn(y_pred, ybatch)\n",
    "        optimizer.zero_grad()\n",
    "        loss.backward()\n",
    "        optimizer.step()\n",
    "    print(f'Finished epoch {epoch}, latest loss {loss}')"
   ],
   "metadata": {
    "collapsed": false,
    "ExecuteTime": {
     "end_time": "2023-08-21T01:24:05.953140200Z",
     "start_time": "2023-08-21T01:24:01.007871200Z"
    }
   },
   "id": "f080ba2ef175e4c8"
  },
  {
   "cell_type": "markdown",
   "source": [],
   "metadata": {
    "collapsed": false
   },
   "id": "ab481f99c0202994"
  },
  {
   "cell_type": "markdown",
   "source": [
    "You have trained our neural network on the entire dataset, and you can evaluate the\n",
    "performance of the network on the same dataset. This will o nly give you an idea of how well\n",
    "you have modeled the dataset (e.g., train accuracy) but no idea of how well the algorithm\n",
    "might perform on new data. This was done for simplicity, but ideally, you could separate\n",
    "your data into train and test datasets for t raining and evaluation of your model.\n",
    "You can evaluate your model on your training dataset in the same way you invoked the\n",
    "model in training. This will generate predictions for each input, but then you still need to\n",
    "compute a score for the evaluation. This score can be the same as your loss function or\n",
    "something different. Because you are doing binary classification, you can use accuracy as\n",
    "your evaluation score by converting the output (a floating point in the range of 0 to 1) to an\n",
    "integer (0 or 1) and co mpare to the label we know."
   ],
   "metadata": {
    "collapsed": false
   },
   "id": "d0912fb8e208bf85"
  },
  {
   "cell_type": "markdown",
   "source": [
    "### Compute the accuracy `no_grad()` is optional"
   ],
   "metadata": {
    "collapsed": false
   },
   "id": "efb72b9caac94d50"
  },
  {
   "cell_type": "code",
   "execution_count": 15,
   "outputs": [
    {
     "name": "stdout",
     "output_type": "stream",
     "text": [
      "Accuracy 0.734375\n"
     ]
    }
   ],
   "source": [
    "y_pred = model(X)\n",
    "accuracy = (y_pred.round() == y).float().mean()\n",
    "print(f\"Accuracy {accuracy}\")"
   ],
   "metadata": {
    "collapsed": false,
    "ExecuteTime": {
     "end_time": "2023-08-21T01:24:42.161537700Z",
     "start_time": "2023-08-21T01:24:42.145896Z"
    }
   },
   "id": "ff744d0acc5b9226"
  },
  {
   "cell_type": "code",
   "execution_count": 16,
   "outputs": [
    {
     "name": "stdout",
     "output_type": "stream",
     "text": [
      "[6.0, 148.0, 72.0, 35.0, 0.0, 33.599998474121094, 0.6269999742507935, 50.0] => 1 (expected 1)\n",
      "[1.0, 85.0, 66.0, 29.0, 0.0, 26.600000381469727, 0.35100001096725464, 31.0] => 0 (expected 0)\n",
      "[8.0, 183.0, 64.0, 0.0, 0.0, 23.299999237060547, 0.671999990940094, 32.0] => 1 (expected 1)\n",
      "[1.0, 89.0, 66.0, 23.0, 94.0, 28.100000381469727, 0.16699999570846558, 21.0] => 0 (expected 0)\n",
      "[0.0, 137.0, 40.0, 35.0, 168.0, 43.099998474121094, 2.2880001068115234, 33.0] => 1 (expected 1)\n"
     ]
    }
   ],
   "source": [
    "# make class predictions with the model\n",
    "predictions = (model(X) > 0.5).int()\n",
    "for i in range(5):\n",
    "    print('%s => %d (expected %d)' % (X[i].tolist(), predictions[i], y[i]))"
   ],
   "metadata": {
    "collapsed": false,
    "ExecuteTime": {
     "end_time": "2023-08-21T01:25:22.472155100Z",
     "start_time": "2023-08-21T01:25:22.456533500Z"
    }
   },
   "id": "8b1e4b25d347d58e"
  },
  {
   "cell_type": "markdown",
   "source": [],
   "metadata": {
    "collapsed": false
   },
   "id": "6b34bae911cd2a35"
  },
  {
   "cell_type": "markdown",
   "source": [],
   "metadata": {
    "collapsed": false
   },
   "id": "2c54984ec8ce8b47"
  }
 ],
 "metadata": {
  "kernelspec": {
   "display_name": "Python 3",
   "language": "python",
   "name": "python3"
  },
  "language_info": {
   "codemirror_mode": {
    "name": "ipython",
    "version": 2
   },
   "file_extension": ".py",
   "mimetype": "text/x-python",
   "name": "python",
   "nbconvert_exporter": "python",
   "pygments_lexer": "ipython2",
   "version": "2.7.6"
  }
 },
 "nbformat": 4,
 "nbformat_minor": 5
}
